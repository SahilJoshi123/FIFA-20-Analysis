{
 "cells": [
  {
   "cell_type": "markdown",
   "metadata": {},
   "source": [
    "### Link to your presentation video here"
   ]
  },
  {
   "cell_type": "markdown",
   "metadata": {},
   "source": [
    "# Your code here"
   ]
  },
  {
   "cell_type": "code",
   "execution_count": 1,
   "metadata": {},
   "outputs": [],
   "source": [
    "import pandas as pd\n",
    "import numpy as np\n",
    "import matplotlib.pyplot as plt\n",
    "import seaborn as sb\n",
    "import math\n",
    "\n",
    "from sklearn.metrics import mean_squared_error\n",
    "from sklearn.metrics import r2_score\n",
    "\n",
    "%matplotlib inline"
   ]
  },
  {
   "cell_type": "code",
   "execution_count": 3,
   "metadata": {},
   "outputs": [],
   "source": [
    "def get_score(df, club_name):\n",
    "    ovrr = df[df['club']==club_name]['overall'].tolist()\n",
    "    \n",
    "    size = len(ovrr)\n",
    "    \n",
    "    ovrr_sum = np.sum(ovrr)\n",
    "    ovrr_mean = np.mean(ovrr)\n",
    "    \n",
    "    cf = sum([rating - ovrr_mean if rating - ovrr_mean>=0 else 0 for rating in ovrr])\n",
    "    \n",
    "    final_rating = math.floor((cf+ovrr_sum)/size)\n",
    "    \n",
    "    return final_rating\n",
    "    "
   ]
  },
  {
   "cell_type": "code",
   "execution_count": 4,
   "metadata": {},
   "outputs": [],
   "source": [
    "def get_leagues():\n",
    "    fifa_teams_df = pd.read_csv('data/fifa_teams.csv')\n",
    "    league_list = np.unique(fifa_teams_df['league'].values).tolist()\n",
    "    league_dict = {}\n",
    "    for league in league_list:\n",
    "        clubs = fifa_teams_df[fifa_teams_df['league']==league]['team'].tolist()\n",
    "    \n",
    "        league_dict[league] = clubs\n",
    "    return league_dict"
   ]
  },
  {
   "cell_type": "code",
   "execution_count": 41,
   "metadata": {
    "scrolled": false
   },
   "outputs": [],
   "source": [
    "leagues = get_leagues()\n",
    "leaderboard = {}\n",
    "for year in range(15,21):\n",
    "    df = pd.read_csv(f'data/players_{year}.csv')\n",
    "    for clubs in leagues.values():\n",
    "        for club in clubs:\n",
    "            if(club in leaderboard.keys()):\n",
    "                leaderboard[club].append(get_score(df, club))\n",
    "            else:\n",
    "                leaderboard[club] = [get_score(df, club)]"
   ]
  },
  {
   "cell_type": "code",
   "execution_count": 42,
   "metadata": {},
   "outputs": [],
   "source": [
    "for key, values in leaderboard.items():\n",
    "    leaderboard[key] = [(values[-1] - values[0]), np.mean(values)]"
   ]
  },
  {
   "cell_type": "code",
   "execution_count": 43,
   "metadata": {},
   "outputs": [
    {
     "name": "stdout",
     "output_type": "stream",
     "text": [
      "62\n"
     ]
    }
   ],
   "source": [
    "print(len(leaderboard))"
   ]
  },
  {
   "cell_type": "code",
   "execution_count": 45,
   "metadata": {},
   "outputs": [
    {
     "data": {
      "text/plain": [
       "[('Bournemouth', [9, 71.16666666666667]),\n",
       " ('Leicester City', [8, 73.66666666666667]),\n",
       " ('Watford', [8, 73.5]),\n",
       " ('Real Betis', [7, 74.66666666666667]),\n",
       " ('Angers SCO', [7, 69.16666666666667]),\n",
       " ('Bologna', [7, 71.83333333333333]),\n",
       " ('Olympique Lyonnais', [6, 74.5]),\n",
       " ('Juventus', [6, 81.83333333333333]),\n",
       " ('RCD Espanyol', [5, 74.0]),\n",
       " ('SD Eibar', [5, 74.0]),\n",
       " ('Napoli', [5, 78.33333333333333]),\n",
       " ('Inter', [5, 78.0]),\n",
       " ('Atalanta', [5, 73.5]),\n",
       " ('Bayer 04 Leverkusen', [4, 77.0]),\n",
       " ('Tottenham Hotspur', [4, 77.66666666666667]),\n",
       " ('West Ham United', [4, 74.66666666666667]),\n",
       " ('Liverpool', [4, 78.16666666666667]),\n",
       " ('Real Madrid', [4, 81.66666666666667]),\n",
       " ('OGC Nice', [4, 72.0]),\n",
       " ('SV Werder Bremen', [3, 72.66666666666667]),\n",
       " ('TSG 1899 Hoffenheim', [3, 74.66666666666667]),\n",
       " ('Manchester City', [3, 79.66666666666667]),\n",
       " ('Crystal Palace', [3, 73.33333333333333]),\n",
       " ('Atlético Madrid', [3, 79.16666666666667]),\n",
       " ('RC Celta', [3, 73.83333333333333]),\n",
       " ('Sevilla FC', [3, 77.5]),\n",
       " ('Valencia CF', [3, 76.83333333333333]),\n",
       " ('FC Nantes', [3, 70.83333333333333]),\n",
       " ('Lazio', [3, 76.5]),\n",
       " ('Genoa', [3, 72.83333333333333]),\n",
       " ('Torino', [3, 74.83333333333333]),\n",
       " ('FC Bayern München', [2, 82.66666666666667]),\n",
       " ('Borussia Mönchengladbach', [2, 75.5]),\n",
       " ('FC Augsburg', [2, 72.0]),\n",
       " ('Manchester United', [2, 79.33333333333333]),\n",
       " ('Southampton', [2, 74.0]),\n",
       " ('Everton', [2, 76.33333333333333]),\n",
       " ('Villarreal CF', [2, 75.66666666666667]),\n",
       " ('Athletic Club de Bilbao', [2, 76.5]),\n",
       " ('Real Sociedad', [2, 74.83333333333333]),\n",
       " ('AS Monaco', [2, 75.0]),\n",
       " ('Stade Rennais FC', [2, 72.83333333333333]),\n",
       " ('FC Girondins de Bordeaux', [2, 72.83333333333333]),\n",
       " ('Montpellier HSC', [2, 72.0]),\n",
       " ('Olympique de Marseille', [2, 74.66666666666667]),\n",
       " ('Sassuolo', [2, 73.0]),\n",
       " ('Borussia Dortmund', [1, 78.16666666666667]),\n",
       " ('1. FSV Mainz 05', [1, 72.66666666666667]),\n",
       " ('Hertha BSC', [1, 74.0]),\n",
       " ('Arsenal', [1, 78.33333333333333]),\n",
       " ('Chelsea', [1, 79.33333333333333]),\n",
       " ('LOSC Lille', [1, 72.83333333333333]),\n",
       " ('Roma', [1, 78.0]),\n",
       " ('Sampdoria', [1, 73.0]),\n",
       " ('Udinese', [1, 73.16666666666667]),\n",
       " ('FC Schalke 04', [0, 76.0]),\n",
       " ('FC Barcelona', [0, 82.16666666666667]),\n",
       " ('Paris Saint-Germain', [0, 80.33333333333333]),\n",
       " ('AS Saint-Étienne', [0, 73.33333333333333]),\n",
       " ('Milan', [0, 78.16666666666667]),\n",
       " ('VfL Wolfsburg', [-1, 75.66666666666667]),\n",
       " ('Fiorentina', [-2, 74.83333333333333])]"
      ]
     },
     "execution_count": 45,
     "metadata": {},
     "output_type": "execute_result"
    }
   ],
   "source": [
    "leaderboard_sorted_diff = sorted(leaderboard.items(), key=lambda x: -x[1][0])\n",
    "leaderboard_sorted_diff"
   ]
  },
  {
   "cell_type": "code",
   "execution_count": 48,
   "metadata": {},
   "outputs": [
    {
     "data": {
      "text/plain": [
       "[('FC Bayern München', [2, 82.66666666666667]),\n",
       " ('FC Barcelona', [0, 82.16666666666667]),\n",
       " ('Juventus', [6, 81.83333333333333]),\n",
       " ('Real Madrid', [4, 81.66666666666667]),\n",
       " ('Paris Saint-Germain', [0, 80.33333333333333]),\n",
       " ('Manchester City', [3, 79.66666666666667]),\n",
       " ('Manchester United', [2, 79.33333333333333]),\n",
       " ('Chelsea', [1, 79.33333333333333]),\n",
       " ('Atlético Madrid', [3, 79.16666666666667]),\n",
       " ('Arsenal', [1, 78.33333333333333]),\n",
       " ('Napoli', [5, 78.33333333333333]),\n",
       " ('Borussia Dortmund', [1, 78.16666666666667]),\n",
       " ('Liverpool', [4, 78.16666666666667]),\n",
       " ('Milan', [0, 78.16666666666667]),\n",
       " ('Roma', [1, 78.0]),\n",
       " ('Inter', [5, 78.0]),\n",
       " ('Tottenham Hotspur', [4, 77.66666666666667]),\n",
       " ('Sevilla FC', [3, 77.5]),\n",
       " ('Bayer 04 Leverkusen', [4, 77.0]),\n",
       " ('Valencia CF', [3, 76.83333333333333]),\n",
       " ('Athletic Club de Bilbao', [2, 76.5]),\n",
       " ('Lazio', [3, 76.5]),\n",
       " ('Everton', [2, 76.33333333333333]),\n",
       " ('FC Schalke 04', [0, 76.0]),\n",
       " ('VfL Wolfsburg', [-1, 75.66666666666667]),\n",
       " ('Villarreal CF', [2, 75.66666666666667]),\n",
       " ('Borussia Mönchengladbach', [2, 75.5]),\n",
       " ('AS Monaco', [2, 75.0]),\n",
       " ('Real Sociedad', [2, 74.83333333333333]),\n",
       " ('Fiorentina', [-2, 74.83333333333333]),\n",
       " ('Torino', [3, 74.83333333333333]),\n",
       " ('TSG 1899 Hoffenheim', [3, 74.66666666666667]),\n",
       " ('West Ham United', [4, 74.66666666666667]),\n",
       " ('Real Betis', [7, 74.66666666666667]),\n",
       " ('Olympique de Marseille', [2, 74.66666666666667]),\n",
       " ('Olympique Lyonnais', [6, 74.5]),\n",
       " ('Hertha BSC', [1, 74.0]),\n",
       " ('Southampton', [2, 74.0]),\n",
       " ('RCD Espanyol', [5, 74.0]),\n",
       " ('SD Eibar', [5, 74.0]),\n",
       " ('RC Celta', [3, 73.83333333333333]),\n",
       " ('Leicester City', [8, 73.66666666666667]),\n",
       " ('Watford', [8, 73.5]),\n",
       " ('Atalanta', [5, 73.5]),\n",
       " ('Crystal Palace', [3, 73.33333333333333]),\n",
       " ('AS Saint-Étienne', [0, 73.33333333333333]),\n",
       " ('Udinese', [1, 73.16666666666667]),\n",
       " ('Sassuolo', [2, 73.0]),\n",
       " ('Sampdoria', [1, 73.0]),\n",
       " ('LOSC Lille', [1, 72.83333333333333]),\n",
       " ('Stade Rennais FC', [2, 72.83333333333333]),\n",
       " ('FC Girondins de Bordeaux', [2, 72.83333333333333]),\n",
       " ('Genoa', [3, 72.83333333333333]),\n",
       " ('1. FSV Mainz 05', [1, 72.66666666666667]),\n",
       " ('SV Werder Bremen', [3, 72.66666666666667]),\n",
       " ('FC Augsburg', [2, 72.0]),\n",
       " ('OGC Nice', [4, 72.0]),\n",
       " ('Montpellier HSC', [2, 72.0]),\n",
       " ('Bologna', [7, 71.83333333333333]),\n",
       " ('Bournemouth', [9, 71.16666666666667]),\n",
       " ('FC Nantes', [3, 70.83333333333333]),\n",
       " ('Angers SCO', [7, 69.16666666666667])]"
      ]
     },
     "execution_count": 48,
     "metadata": {},
     "output_type": "execute_result"
    }
   ],
   "source": [
    "leaderboard_sorted_mean = sorted(leaderboard.items(), key=lambda x: -x[1][1])\n",
    "leaderboard_sorted_mean"
   ]
  },
  {
   "cell_type": "code",
   "execution_count": 91,
   "metadata": {},
   "outputs": [
    {
     "name": "stdout",
     "output_type": "stream",
     "text": [
      "***** FIFA 17 Evaluation *****\n",
      "MSE: 1.988,  R2 Score: 0.961\n",
      "\n",
      "\n",
      "***** FIFA 18 Evaluation *****\n",
      "MSE: 1.356,  R2 Score: 0.972\n",
      "\n",
      "\n",
      "***** FIFA 19 Evaluation *****\n",
      "MSE: 0.682,  R2 Score: 0.986\n",
      "\n",
      "\n",
      "***** FIFA 20 Evaluation *****\n",
      "MSE: 1.024,  R2 Score: 0.979\n",
      "\n",
      "\n"
     ]
    }
   ],
   "source": [
    "for year in range(17,21):\n",
    "    df = pd.read_csv(f'data/players_{year}.csv')\n",
    "    \n",
    "#     test_club = ['FC Barcelona', 'FC Bayern München', 'Real Madrid', 'Paris Saint-Germain', 'Juventus', 'Manchester City', 'Liverpool FC']\n",
    "    \n",
    "#     df = df[df['club'].isin(test_club)]\n",
    "    x,y = clean_df(df)\n",
    "    mse, score = eval_model(x, y, model)\n",
    "    \n",
    "    print(f'***** FIFA {year} Evaluation *****')\n",
    "    print(f'MSE: {mse:.3f},  R2 Score: {score:.3f}')\n",
    "    print('\\n')"
   ]
  }
 ],
 "metadata": {
  "kernelspec": {
   "display_name": "Python 3 (ipykernel)",
   "language": "python",
   "name": "python3"
  },
  "language_info": {
   "codemirror_mode": {
    "name": "ipython",
    "version": 3
   },
   "file_extension": ".py",
   "mimetype": "text/x-python",
   "name": "python",
   "nbconvert_exporter": "python",
   "pygments_lexer": "ipython3",
   "version": "3.8.8"
  }
 },
 "nbformat": 4,
 "nbformat_minor": 2
}
